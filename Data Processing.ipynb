{
 "cells": [
  {
   "cell_type": "code",
   "execution_count": 20,
   "metadata": {},
   "outputs": [],
   "source": [
    "import pandas as pd\n",
    "import numpy as np\n",
    "import matplotlib.pyplot as plt"
   ]
  },
  {
   "cell_type": "code",
   "execution_count": 41,
   "metadata": {},
   "outputs": [
    {
     "name": "stdout",
     "output_type": "stream",
     "text": [
      "(898, 5)\n"
     ]
    },
    {
     "data": {
      "text/html": [
       "<div>\n",
       "<style scoped>\n",
       "    .dataframe tbody tr th:only-of-type {\n",
       "        vertical-align: middle;\n",
       "    }\n",
       "\n",
       "    .dataframe tbody tr th {\n",
       "        vertical-align: top;\n",
       "    }\n",
       "\n",
       "    .dataframe thead th {\n",
       "        text-align: right;\n",
       "    }\n",
       "</style>\n",
       "<table border=\"1\" class=\"dataframe\">\n",
       "  <thead>\n",
       "    <tr style=\"text-align: right;\">\n",
       "      <th></th>\n",
       "      <th>title</th>\n",
       "      <th>y</th>\n",
       "      <th>upload_date</th>\n",
       "      <th>view_count</th>\n",
       "      <th>query</th>\n",
       "    </tr>\n",
       "  </thead>\n",
       "  <tbody>\n",
       "    <tr>\n",
       "      <th>0</th>\n",
       "      <td>Assessing Federated Machine Learning's Potenti...</td>\n",
       "      <td>0</td>\n",
       "      <td>2020-10-26</td>\n",
       "      <td>1</td>\n",
       "      <td>machine+learning</td>\n",
       "    </tr>\n",
       "    <tr>\n",
       "      <th>1</th>\n",
       "      <td>Alexa: Which is the Best Instance to Run Machi...</td>\n",
       "      <td>1</td>\n",
       "      <td>2020-10-26</td>\n",
       "      <td>28</td>\n",
       "      <td>machine+learning</td>\n",
       "    </tr>\n",
       "    <tr>\n",
       "      <th>2</th>\n",
       "      <td>Tesla vs comma.ai approach to machine learning...</td>\n",
       "      <td>0</td>\n",
       "      <td>2020-10-26</td>\n",
       "      <td>1</td>\n",
       "      <td>machine+learning</td>\n",
       "    </tr>\n",
       "    <tr>\n",
       "      <th>3</th>\n",
       "      <td>Explore Machine Learning Models with Explainab...</td>\n",
       "      <td>1</td>\n",
       "      <td>2020-10-26</td>\n",
       "      <td>8</td>\n",
       "      <td>machine+learning</td>\n",
       "    </tr>\n",
       "    <tr>\n",
       "      <th>4</th>\n",
       "      <td>8. Deep Learning Tutorial (Bengali) | Padding ...</td>\n",
       "      <td>0</td>\n",
       "      <td>2020-10-26</td>\n",
       "      <td>16</td>\n",
       "      <td>machine+learning</td>\n",
       "    </tr>\n",
       "  </tbody>\n",
       "</table>\n",
       "</div>"
      ],
      "text/plain": [
       "                                               title  y upload_date  \\\n",
       "0  Assessing Federated Machine Learning's Potenti...  0  2020-10-26   \n",
       "1  Alexa: Which is the Best Instance to Run Machi...  1  2020-10-26   \n",
       "2  Tesla vs comma.ai approach to machine learning...  0  2020-10-26   \n",
       "3  Explore Machine Learning Models with Explainab...  1  2020-10-26   \n",
       "4  8. Deep Learning Tutorial (Bengali) | Padding ...  0  2020-10-26   \n",
       "\n",
       "   view_count             query  \n",
       "0           1  machine+learning  \n",
       "1          28  machine+learning  \n",
       "2           1  machine+learning  \n",
       "3           8  machine+learning  \n",
       "4          16  machine+learning  "
      ]
     },
     "execution_count": 41,
     "metadata": {},
     "output_type": "execute_result"
    }
   ],
   "source": [
    "data = pd.read_csv(\"raw_data1_with_labels.csv\", index_col = 0)\n",
    "print(data.shape)\n",
    "data.head()"
   ]
  },
  {
   "cell_type": "code",
   "execution_count": 42,
   "metadata": {},
   "outputs": [
    {
     "name": "stdout",
     "output_type": "stream",
     "text": [
      "<class 'pandas.core.frame.DataFrame'>\n",
      "Int64Index: 898 entries, 0 to 897\n",
      "Data columns (total 5 columns):\n",
      " #   Column       Non-Null Count  Dtype \n",
      "---  ------       --------------  ----- \n",
      " 0   title        898 non-null    object\n",
      " 1   y            898 non-null    int64 \n",
      " 2   upload_date  898 non-null    object\n",
      " 3   view_count   898 non-null    int64 \n",
      " 4   query        898 non-null    object\n",
      "dtypes: int64(2), object(3)\n",
      "memory usage: 42.1+ KB\n"
     ]
    }
   ],
   "source": [
    "# As it can be seen, the data has 5 columns, where the y is our label and the other can be the features used to train our model\n",
    "data.info()"
   ]
  },
  {
   "cell_type": "code",
   "execution_count": 43,
   "metadata": {},
   "outputs": [
    {
     "data": {
      "text/plain": [
       "(898,)"
      ]
     },
     "execution_count": 43,
     "metadata": {},
     "output_type": "execute_result"
    }
   ],
   "source": [
    "df = data.copy()\n",
    "\n",
    "y = df['y'] # we take our labels\n",
    "y.shape"
   ]
  },
  {
   "cell_type": "code",
   "execution_count": 44,
   "metadata": {},
   "outputs": [
    {
     "name": "stdout",
     "output_type": "stream",
     "text": [
      "(898, 1)\n"
     ]
    },
    {
     "data": {
      "text/html": [
       "<div>\n",
       "<style scoped>\n",
       "    .dataframe tbody tr th:only-of-type {\n",
       "        vertical-align: middle;\n",
       "    }\n",
       "\n",
       "    .dataframe tbody tr th {\n",
       "        vertical-align: top;\n",
       "    }\n",
       "\n",
       "    .dataframe thead th {\n",
       "        text-align: right;\n",
       "    }\n",
       "</style>\n",
       "<table border=\"1\" class=\"dataframe\">\n",
       "  <thead>\n",
       "    <tr style=\"text-align: right;\">\n",
       "      <th></th>\n",
       "      <th>title</th>\n",
       "    </tr>\n",
       "  </thead>\n",
       "  <tbody>\n",
       "    <tr>\n",
       "      <th>0</th>\n",
       "      <td>Assessing Federated Machine Learning's Potenti...</td>\n",
       "    </tr>\n",
       "    <tr>\n",
       "      <th>1</th>\n",
       "      <td>Alexa: Which is the Best Instance to Run Machi...</td>\n",
       "    </tr>\n",
       "    <tr>\n",
       "      <th>2</th>\n",
       "      <td>Tesla vs comma.ai approach to machine learning...</td>\n",
       "    </tr>\n",
       "    <tr>\n",
       "      <th>3</th>\n",
       "      <td>Explore Machine Learning Models with Explainab...</td>\n",
       "    </tr>\n",
       "    <tr>\n",
       "      <th>4</th>\n",
       "      <td>8. Deep Learning Tutorial (Bengali) | Padding ...</td>\n",
       "    </tr>\n",
       "  </tbody>\n",
       "</table>\n",
       "</div>"
      ],
      "text/plain": [
       "                                               title\n",
       "0  Assessing Federated Machine Learning's Potenti...\n",
       "1  Alexa: Which is the Best Instance to Run Machi...\n",
       "2  Tesla vs comma.ai approach to machine learning...\n",
       "3  Explore Machine Learning Models with Explainab...\n",
       "4  8. Deep Learning Tutorial (Bengali) | Padding ..."
      ]
     },
     "execution_count": 44,
     "metadata": {},
     "output_type": "execute_result"
    }
   ],
   "source": [
    "features = pd.DataFrame(index = df.index)\n",
    "text = pd.DataFrame(index = df.index)\n",
    "\n",
    "text['title'] = df['title']\n",
    "features['date'] = pd.to_datetime(df['upload_date'])\n",
    "features['view_count'] = df['view_count']\n",
    "\n",
    "print(text.shape)\n",
    "text.head()\n",
    "                                  "
   ]
  },
  {
   "cell_type": "code",
   "execution_count": 45,
   "metadata": {},
   "outputs": [
    {
     "name": "stdout",
     "output_type": "stream",
     "text": [
      "(898, 3)\n"
     ]
    },
    {
     "data": {
      "text/html": [
       "<div>\n",
       "<style scoped>\n",
       "    .dataframe tbody tr th:only-of-type {\n",
       "        vertical-align: middle;\n",
       "    }\n",
       "\n",
       "    .dataframe tbody tr th {\n",
       "        vertical-align: top;\n",
       "    }\n",
       "\n",
       "    .dataframe thead th {\n",
       "        text-align: right;\n",
       "    }\n",
       "</style>\n",
       "<table border=\"1\" class=\"dataframe\">\n",
       "  <thead>\n",
       "    <tr style=\"text-align: right;\">\n",
       "      <th></th>\n",
       "      <th>date</th>\n",
       "      <th>view_count</th>\n",
       "      <th>views_per_day</th>\n",
       "    </tr>\n",
       "  </thead>\n",
       "  <tbody>\n",
       "    <tr>\n",
       "      <th>0</th>\n",
       "      <td>2020-10-26</td>\n",
       "      <td>1</td>\n",
       "      <td>0.021277</td>\n",
       "    </tr>\n",
       "    <tr>\n",
       "      <th>1</th>\n",
       "      <td>2020-10-26</td>\n",
       "      <td>28</td>\n",
       "      <td>0.595745</td>\n",
       "    </tr>\n",
       "    <tr>\n",
       "      <th>2</th>\n",
       "      <td>2020-10-26</td>\n",
       "      <td>1</td>\n",
       "      <td>0.021277</td>\n",
       "    </tr>\n",
       "    <tr>\n",
       "      <th>3</th>\n",
       "      <td>2020-10-26</td>\n",
       "      <td>8</td>\n",
       "      <td>0.170213</td>\n",
       "    </tr>\n",
       "    <tr>\n",
       "      <th>4</th>\n",
       "      <td>2020-10-26</td>\n",
       "      <td>16</td>\n",
       "      <td>0.340426</td>\n",
       "    </tr>\n",
       "  </tbody>\n",
       "</table>\n",
       "</div>"
      ],
      "text/plain": [
       "        date  view_count  views_per_day\n",
       "0 2020-10-26           1       0.021277\n",
       "1 2020-10-26          28       0.595745\n",
       "2 2020-10-26           1       0.021277\n",
       "3 2020-10-26           8       0.170213\n",
       "4 2020-10-26          16       0.340426"
      ]
     },
     "execution_count": 45,
     "metadata": {},
     "output_type": "execute_result"
    }
   ],
   "source": [
    "features['time_since_pub'] = (pd.to_datetime(\"2020-12-12\") - features['date']) / np.timedelta64(1, 'D') \n",
    "features['views_per_day'] = features['view_count'] /  features['time_since_pub']\n",
    "features.drop(columns = [\"time_since_pub\"], inplace = True)\n",
    "print(features.shape)\n",
    "features.head()"
   ]
  },
  {
   "cell_type": "code",
   "execution_count": 46,
   "metadata": {},
   "outputs": [
    {
     "data": {
      "text/plain": [
       "<matplotlib.axes._subplots.AxesSubplot at 0x2c21985c220>"
      ]
     },
     "execution_count": 46,
     "metadata": {},
     "output_type": "execute_result"
    },
    {
     "data": {
      "image/png": "[encoded data removed]",
      "text/plain": [
       "<Figure size 1296x720 with 1 Axes>"
      ]
     },
     "metadata": {
      "needs_background": "light"
     },
     "output_type": "display_data"
    }
   ],
   "source": [
    "features['date'].value_counts().plot(figsize = (18, 10))"
   ]
  },
  {
   "cell_type": "code",
   "execution_count": 55,
   "metadata": {},
   "outputs": [],
   "source": [
    "mask1 = features['date'] <= \"2020-08-31\" # 63% - be use to train the model\n",
    "mask2 = features['date'] > \"2020-08-31\" # 27% - be use to test the model"
   ]
  },
  {
   "cell_type": "code",
   "execution_count": 57,
   "metadata": {},
   "outputs": [
    {
     "data": {
      "text/plain": [
       "True     573\n",
       "False    325\n",
       "Name: date, dtype: int64"
      ]
     },
     "execution_count": 57,
     "metadata": {},
     "output_type": "execute_result"
    }
   ],
   "source": [
    "mask1.value_counts()"
   ]
  },
  {
   "cell_type": "code",
   "execution_count": 58,
   "metadata": {},
   "outputs": [],
   "source": [
    "features.drop(columns = [\"date\"], inplace = True) # We not be using the date as a feature"
   ]
  },
  {
   "cell_type": "code",
   "execution_count": 59,
   "metadata": {},
   "outputs": [
    {
     "data": {
      "text/plain": [
       "((573, 2), (573,), (325, 2), (325,))"
      ]
     },
     "execution_count": 59,
     "metadata": {},
     "output_type": "execute_result"
    }
   ],
   "source": [
    "X_train, X_val = features[mask1], features[mask2]\n",
    "y_train, y_val = y[mask1], y[mask2]\n",
    "\n",
    "X_train.shape, y_train.shape, X_val.shape, y_val.shape"
   ]
  },
  {
   "cell_type": "markdown",
   "metadata": {},
   "source": [
    "## Building the Baseline"
   ]
  },
  {
   "cell_type": "code",
   "execution_count": 62,
   "metadata": {},
   "outputs": [],
   "source": [
    "# Now we can build a baseline with this values, a baseline is a start point where with this metrics we can optmizer our model\n",
    "\n",
    "from sklearn.tree import DecisionTreeClassifier"
   ]
  },
  {
   "cell_type": "code",
   "execution_count": 63,
   "metadata": {},
   "outputs": [
    {
     "data": {
      "text/plain": [
       "DecisionTreeClassifier(class_weight='balanced', max_depth=2, random_state=0)"
      ]
     },
     "execution_count": 63,
     "metadata": {},
     "output_type": "execute_result"
    }
   ],
   "source": [
    "mdl = DecisionTreeClassifier(random_state = 0, max_depth=2, class_weight = \"balanced\") # because in the dataset we have most \"0\"\n",
    "                                                              # then \"1's\", we need to balance the weights to reduce overfitting\n",
    "    \n",
    "mdl.fit(X_train, y_train)"
   ]
  },
  {
   "cell_type": "code",
   "execution_count": 64,
   "metadata": {},
   "outputs": [],
   "source": [
    "p = mdl.predict_proba(X_val)[:, 1]"
   ]
  },
  {
   "cell_type": "code",
   "execution_count": 65,
   "metadata": {},
   "outputs": [
    {
     "data": {
      "text/plain": [
       "(0.24974358974358976, 0.5064102564102564)"
      ]
     },
     "execution_count": 65,
     "metadata": {},
     "output_type": "execute_result"
    }
   ],
   "source": [
    "from sklearn.metrics import roc_auc_score, average_precision_score\n",
    "\n",
    "average_precision_score(y_val, p), roc_auc_score(y_val, p)"
   ]
  },
  {
   "cell_type": "markdown",
   "metadata": {},
   "source": [
    "*So this are the baseline for the metrics **Average Precision** : 0.24974358974358976 and the **Roc Auc score** : 0.5064102564102564. Now, we can optmizer our model using another models and tunning the hyperparameters*"
   ]
  },
  {
   "cell_type": "code",
   "execution_count": 67,
   "metadata": {},
   "outputs": [
    {
     "data": {
      "text/plain": [
       "[Text(279.0, 453.0, 'views_per_day <= 0.003\\ngini = 0.5\\nsamples = 573\\nvalue = [286.5, 286.5]'),\n",
       " Text(139.5, 271.8, 'views_per_day <= 0.002\\ngini = 0.332\\nsamples = 29\\nvalue = [17.267, 4.584]'),\n",
       " Text(69.75, 90.59999999999997, 'gini = 0.46\\nsamples = 3\\nvalue = [1.279, 2.292]'),\n",
       " Text(209.25, 90.59999999999997, 'gini = 0.219\\nsamples = 26\\nvalue = [15.988, 2.292]'),\n",
       " Text(418.5, 271.8, 'views_per_day <= 0.005\\ngini = 0.5\\nsamples = 544\\nvalue = [269.233, 281.916]'),\n",
       " Text(348.75, 90.59999999999997, 'gini = 0.341\\nsamples = 18\\nvalue = [5.756, 20.628]'),\n",
       " Text(488.25, 90.59999999999997, 'gini = 0.5\\nsamples = 526\\nvalue = [263.478, 261.288]')]"
      ]
     },
     "execution_count": 67,
     "metadata": {},
     "output_type": "execute_result"
    },
    {
     "data": {
      "image/png": "[encoded data removed]",
      "text/plain": [
       "<Figure size 720x720 with 1 Axes>"
      ]
     },
     "metadata": {
      "needs_background": "light"
     },
     "output_type": "display_data"
    }
   ],
   "source": [
    "import pylab\n",
    "from sklearn.tree import plot_tree\n",
    "\n",
    "fig, ax = pylab.subplots(1, 1, figsize = (10, 10))\n",
    "plot_tree(mdl, ax = ax, feature_names=X_train.columns)\n"
   ]
  },
  {
   "cell_type": "markdown",
   "metadata": {},
   "source": [
    "## Using the text  as feature"
   ]
  },
  {
   "cell_type": "markdown",
   "metadata": {},
   "source": [
    "*Now we can use the text (title column) as feature to improve our model metrics, for that we'll be using the bag of words representation with the  the **TF-IDF** measure.*\n",
    "\n",
    "*A  **Bag of Words** is a way of extracting features from texts. It's representantion of text that describes the occurence of words within a document.*\n",
    "\n",
    "*The **TF-IDF** (Term Frequency Inverse Document Frequency)  is a bag of words measure where the words with high frequencies are penalized.*"
   ]
  },
  {
   "cell_type": "code",
   "execution_count": 85,
   "metadata": {},
   "outputs": [
    {
     "name": "stdout",
     "output_type": "stream",
     "text": [
      "(573,) (325,)\n",
      "(573, 1121) (325, 1121)\n"
     ]
    }
   ],
   "source": [
    "from sklearn.feature_extraction.text import TfidfVectorizer\n",
    "\n",
    "title_train = np.squeeze(text[mask1])\n",
    "title_val = np.squeeze(text[mask2])\n",
    "print(title_train.shape, title_val.shape)\n",
    "\n",
    "title_vec = TfidfVectorizer(min_df = 2, ngram_range=(1, 2)) # min_df is the minimum appearence of words in the corpus, \n",
    "                                                            # the ngram_range is the ngram words in the corpus (in this case \n",
    "                                                            # the unigram and bigram)\n",
    "        \n",
    "title_train_bow = title_vec.fit_transform(title_train)\n",
    "title_val_bow = title_vec.transform(title_val)\n",
    "print(title_train_bow.shape, title_val_bow.shape)"
   ]
  },
  {
   "cell_type": "code",
   "execution_count": 86,
   "metadata": {},
   "outputs": [
    {
     "data": {
      "text/plain": [
       "<573x1121 sparse matrix of type '<class 'numpy.float64'>'\n",
       "\twith 6640 stored elements in Compressed Sparse Row format>"
      ]
     },
     "execution_count": 86,
     "metadata": {},
     "output_type": "execute_result"
    }
   ],
   "source": [
    "title_train_bow"
   ]
  },
  {
   "cell_type": "code",
   "execution_count": 87,
   "metadata": {},
   "outputs": [
    {
     "data": {
      "text/plain": [
       "((573, 1123), (325, 1123))"
      ]
     },
     "execution_count": 87,
     "metadata": {},
     "output_type": "execute_result"
    }
   ],
   "source": [
    "from scipy.sparse import hstack\n",
    "\n",
    "X_train_with_title = hstack([X_train, title_train_bow])\n",
    "X_val_with_title = hstack([X_val, title_val_bow])\n",
    "\n",
    "X_train_with_title.shape, X_val_with_title.shape"
   ]
  },
  {
   "cell_type": "markdown",
   "metadata": {},
   "source": [
    "*Now we create a ensemble model to see the difference:*"
   ]
  },
  {
   "cell_type": "code",
   "execution_count": 88,
   "metadata": {},
   "outputs": [
    {
     "data": {
      "text/plain": [
       "RandomForestClassifier(class_weight='balanced', n_estimators=1000, n_jobs=-1,\n",
       "                       random_state=0)"
      ]
     },
     "execution_count": 88,
     "metadata": {},
     "output_type": "execute_result"
    }
   ],
   "source": [
    "from sklearn.ensemble import RandomForestClassifier\n",
    "\n",
    "mdl = RandomForestClassifier(n_estimators=1000, n_jobs=-1, random_state = 0, class_weight=\"balanced\")\n",
    "mdl.fit(X_train_with_title, y_train)"
   ]
  },
  {
   "cell_type": "code",
   "execution_count": 89,
   "metadata": {},
   "outputs": [],
   "source": [
    "p = mdl.predict_proba(X_val_with_title)[:, 1]"
   ]
  },
  {
   "cell_type": "code",
   "execution_count": 90,
   "metadata": {},
   "outputs": [
    {
     "data": {
      "text/plain": [
       "(0.4398304045590999, 0.6974981833281428)"
      ]
     },
     "execution_count": 90,
     "metadata": {},
     "output_type": "execute_result"
    }
   ],
   "source": [
    "average_precision_score(y_val, p), roc_auc_score(y_val, p)"
   ]
  },
  {
   "cell_type": "markdown",
   "metadata": {},
   "source": [
    "*Just adding the text as a feature we had a great improvement:*\n",
    "\n",
    "*We get an **average_precision_score** : 0.4398304045590999 and  **roc_auc_score** : 0.6974981833281428*"
   ]
  },
  {
   "cell_type": "code",
   "execution_count": null,
   "metadata": {},
   "outputs": [],
   "source": []
  }
 ],
 "metadata": {
  "kernelspec": {
   "display_name": "Python 3",
   "language": "python",
   "name": "python3"
  },
  "language_info": {
   "codemirror_mode": {
    "name": "ipython",
    "version": 3
   },
   "file_extension": ".py",
   "mimetype": "text/x-python",
   "name": "python",
   "nbconvert_exporter": "python",
   "pygments_lexer": "ipython3",
   "version": "3.8.3"
  }
 },
 "nbformat": 4,
 "nbformat_minor": 4
}
