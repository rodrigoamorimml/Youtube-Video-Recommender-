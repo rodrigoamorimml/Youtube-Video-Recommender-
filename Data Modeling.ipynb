{
 "cells": [
  {
   "cell_type": "code",
   "execution_count": 3,
   "metadata": {},
   "outputs": [],
   "source": [
    "# Import libraries\n",
    "\n",
    "import numpy as np\n",
    "import pandas as pd\n",
    "import matplotlib.pyplot as plt"
   ]
  },
  {
   "cell_type": "code",
   "execution_count": 4,
   "metadata": {
    "scrolled": true
   },
   "outputs": [
    {
     "data": {
      "text/html": [
       "<div>\n",
       "<style scoped>\n",
       "    .dataframe tbody tr th:only-of-type {\n",
       "        vertical-align: middle;\n",
       "    }\n",
       "\n",
       "    .dataframe tbody tr th {\n",
       "        vertical-align: top;\n",
       "    }\n",
       "\n",
       "    .dataframe thead th {\n",
       "        text-align: right;\n",
       "    }\n",
       "</style>\n",
       "<table border=\"1\" class=\"dataframe\">\n",
       "  <thead>\n",
       "    <tr style=\"text-align: right;\">\n",
       "      <th></th>\n",
       "      <th>title</th>\n",
       "      <th>y</th>\n",
       "      <th>upload_date</th>\n",
       "      <th>view_count</th>\n",
       "      <th>query</th>\n",
       "    </tr>\n",
       "  </thead>\n",
       "  <tbody>\n",
       "    <tr>\n",
       "      <th>0</th>\n",
       "      <td>Assessing Federated Machine Learning's Potenti...</td>\n",
       "      <td>0</td>\n",
       "      <td>2020-10-26</td>\n",
       "      <td>1</td>\n",
       "      <td>machine+learning</td>\n",
       "    </tr>\n",
       "    <tr>\n",
       "      <th>1</th>\n",
       "      <td>Alexa: Which is the Best Instance to Run Machi...</td>\n",
       "      <td>1</td>\n",
       "      <td>2020-10-26</td>\n",
       "      <td>28</td>\n",
       "      <td>machine+learning</td>\n",
       "    </tr>\n",
       "    <tr>\n",
       "      <th>2</th>\n",
       "      <td>Tesla vs comma.ai approach to machine learning...</td>\n",
       "      <td>0</td>\n",
       "      <td>2020-10-26</td>\n",
       "      <td>1</td>\n",
       "      <td>machine+learning</td>\n",
       "    </tr>\n",
       "    <tr>\n",
       "      <th>3</th>\n",
       "      <td>Explore Machine Learning Models with Explainab...</td>\n",
       "      <td>1</td>\n",
       "      <td>2020-10-26</td>\n",
       "      <td>8</td>\n",
       "      <td>machine+learning</td>\n",
       "    </tr>\n",
       "    <tr>\n",
       "      <th>4</th>\n",
       "      <td>8. Deep Learning Tutorial (Bengali) | Padding ...</td>\n",
       "      <td>0</td>\n",
       "      <td>2020-10-26</td>\n",
       "      <td>16</td>\n",
       "      <td>machine+learning</td>\n",
       "    </tr>\n",
       "  </tbody>\n",
       "</table>\n",
       "</div>"
      ],
      "text/plain": [
       "                                               title  y upload_date  \\\n",
       "0  Assessing Federated Machine Learning's Potenti...  0  2020-10-26   \n",
       "1  Alexa: Which is the Best Instance to Run Machi...  1  2020-10-26   \n",
       "2  Tesla vs comma.ai approach to machine learning...  0  2020-10-26   \n",
       "3  Explore Machine Learning Models with Explainab...  1  2020-10-26   \n",
       "4  8. Deep Learning Tutorial (Bengali) | Padding ...  0  2020-10-26   \n",
       "\n",
       "   view_count             query  \n",
       "0           1  machine+learning  \n",
       "1          28  machine+learning  \n",
       "2           1  machine+learning  \n",
       "3           8  machine+learning  \n",
       "4          16  machine+learning  "
      ]
     },
     "execution_count": 4,
     "metadata": {},
     "output_type": "execute_result"
    }
   ],
   "source": [
    "data = pd.read_csv(\"raw_data1_with_labels.csv\", index_col = 0)\n",
    "data.head()"
   ]
  },
  {
   "cell_type": "code",
   "execution_count": 5,
   "metadata": {},
   "outputs": [],
   "source": [
    "# Getting the labels and the title column\n",
    "\n",
    "y = data['y']\n",
    "text = data['title']"
   ]
  },
  {
   "cell_type": "code",
   "execution_count": 6,
   "metadata": {},
   "outputs": [],
   "source": [
    "# It'll be create functions to process the data like the data processing notebook\n",
    "\n",
    "def getting_numeric_features(data):\n",
    "    \n",
    "    df = data.copy()\n",
    "    features = pd.DataFrame(index = df.index)\n",
    "    \n",
    "    features['date'] = pd.to_datetime(df['upload_date'])\n",
    "    features['views'] = df['view_count']\n",
    "    \n",
    "    features['time_since_pub'] = (pd.to_datetime(\"2020-12-12\") - features['date']) / np.timedelta64(1, 'D') \n",
    "    features['views_per_day'] = features['views'] /  features['time_since_pub']\n",
    "    features.drop(columns = [\"time_since_pub\", \"date\"], inplace = True)\n",
    "    \n",
    "    return features\n",
    "    "
   ]
  },
  {
   "cell_type": "code",
   "execution_count": 7,
   "metadata": {},
   "outputs": [
    {
     "data": {
      "text/html": [
       "<div>\n",
       "<style scoped>\n",
       "    .dataframe tbody tr th:only-of-type {\n",
       "        vertical-align: middle;\n",
       "    }\n",
       "\n",
       "    .dataframe tbody tr th {\n",
       "        vertical-align: top;\n",
       "    }\n",
       "\n",
       "    .dataframe thead th {\n",
       "        text-align: right;\n",
       "    }\n",
       "</style>\n",
       "<table border=\"1\" class=\"dataframe\">\n",
       "  <thead>\n",
       "    <tr style=\"text-align: right;\">\n",
       "      <th></th>\n",
       "      <th>views</th>\n",
       "      <th>views_per_day</th>\n",
       "    </tr>\n",
       "  </thead>\n",
       "  <tbody>\n",
       "    <tr>\n",
       "      <th>0</th>\n",
       "      <td>1</td>\n",
       "      <td>0.021277</td>\n",
       "    </tr>\n",
       "    <tr>\n",
       "      <th>1</th>\n",
       "      <td>28</td>\n",
       "      <td>0.595745</td>\n",
       "    </tr>\n",
       "    <tr>\n",
       "      <th>2</th>\n",
       "      <td>1</td>\n",
       "      <td>0.021277</td>\n",
       "    </tr>\n",
       "    <tr>\n",
       "      <th>3</th>\n",
       "      <td>8</td>\n",
       "      <td>0.170213</td>\n",
       "    </tr>\n",
       "    <tr>\n",
       "      <th>4</th>\n",
       "      <td>16</td>\n",
       "      <td>0.340426</td>\n",
       "    </tr>\n",
       "  </tbody>\n",
       "</table>\n",
       "</div>"
      ],
      "text/plain": [
       "   views  views_per_day\n",
       "0      1       0.021277\n",
       "1     28       0.595745\n",
       "2      1       0.021277\n",
       "3      8       0.170213\n",
       "4     16       0.340426"
      ]
     },
     "execution_count": 7,
     "metadata": {},
     "output_type": "execute_result"
    }
   ],
   "source": [
    "features = getting_numeric_features(data)\n",
    "features.head()"
   ]
  },
  {
   "cell_type": "code",
   "execution_count": 8,
   "metadata": {},
   "outputs": [
    {
     "data": {
      "text/plain": [
       "((573, 2), (573,), (325, 2), (325,))"
      ]
     },
     "execution_count": 8,
     "metadata": {},
     "output_type": "execute_result"
    }
   ],
   "source": [
    "# splitting the data into train and validation\n",
    "\n",
    "mask1 = data['upload_date'] <= \"2020-08-31\" # 63% - be use to train the model\n",
    "mask2 = data['upload_date'] > \"2020-08-31\" # 27% - be use to test the model\n",
    "\n",
    "X_train, X_val = features[mask1], features[mask2]\n",
    "y_train, y_val = y[mask1], y[mask2]\n",
    "\n",
    "X_train.shape, y_train.shape, X_val.shape, y_val.shape"
   ]
  },
  {
   "cell_type": "code",
   "execution_count": 9,
   "metadata": {},
   "outputs": [],
   "source": [
    "from sklearn.feature_extraction.text import TfidfVectorizer\n",
    "from scipy.sparse import hstack\n",
    "\n",
    "def getting_text_features(text, mask1, mask2, min_df = 2, ngram_range = (1, 3)):\n",
    "    \n",
    "    X_train_text = np.squeeze(text[mask1])\n",
    "    X_val_text = np.squeeze(text[mask2])\n",
    "    \n",
    "    \n",
    "    title_vec = TfidfVectorizer(min_df=min_df, ngram_range=ngram_range)\n",
    "    \n",
    "    X_train_bow = title_vec.fit_transform(X_train_text)\n",
    "    X_val_bow = title_vec.transform(X_val_text)\n",
    "    \n",
    "    return X_train_bow, X_val_bow, title_vec\n",
    "        \n",
    "    \n",
    "def final_data(x_train, x_val, x_train_bow, x_val_bow):\n",
    "    \n",
    "    return hstack([x_train, x_train_bow]), hstack([x_val, x_val_bow])"
   ]
  },
  {
   "cell_type": "code",
   "execution_count": 11,
   "metadata": {},
   "outputs": [
    {
     "data": {
      "text/plain": [
       "((573, 1657), (325, 1657))"
      ]
     },
     "execution_count": 11,
     "metadata": {},
     "output_type": "execute_result"
    }
   ],
   "source": [
    "x_train_bow, x_val_bow, title_vec_rf = getting_text_features(text, mask1, mask2)\n",
    "\n",
    "x_train_bow.shape, x_val_bow.shape"
   ]
  },
  {
   "cell_type": "code",
   "execution_count": 12,
   "metadata": {},
   "outputs": [
    {
     "data": {
      "text/plain": [
       "((573, 1659), (325, 1659))"
      ]
     },
     "execution_count": 12,
     "metadata": {},
     "output_type": "execute_result"
    }
   ],
   "source": [
    "X_train_with_title, X_val_with_title = final_data(X_train, X_val, x_train_bow, x_val_bow)\n",
    "X_train_with_title.shape, X_val_with_title.shape"
   ]
  },
  {
   "cell_type": "markdown",
   "metadata": {},
   "source": [
    "*After getting the data prepared to feed into the model, we are building some models to compare their metrics.*"
   ]
  },
  {
   "cell_type": "code",
   "execution_count": 13,
   "metadata": {},
   "outputs": [],
   "source": [
    "from sklearn.ensemble import RandomForestClassifier\n",
    "from sklearn.linear_model import LogisticRegression\n"
   ]
  },
  {
   "cell_type": "markdown",
   "metadata": {},
   "source": [
    "### Random Forest Classifier"
   ]
  },
  {
   "cell_type": "code",
   "execution_count": 14,
   "metadata": {},
   "outputs": [
    {
     "data": {
      "text/plain": [
       "RandomForestClassifier(class_weight='balanced', n_estimators=1000, n_jobs=-1,\n",
       "                       random_state=0)"
      ]
     },
     "execution_count": 14,
     "metadata": {},
     "output_type": "execute_result"
    }
   ],
   "source": [
    "mdl1 = RandomForestClassifier(n_estimators = 1000, random_state = 0, n_jobs = -1, class_weight = \"balanced\", min_samples_leaf= 1)\n",
    "mdl1.fit(X_train_with_title, y_train)"
   ]
  },
  {
   "cell_type": "code",
   "execution_count": 15,
   "metadata": {},
   "outputs": [
    {
     "data": {
      "text/plain": [
       "(0.47479006692854603, 0.7139520398629711)"
      ]
     },
     "execution_count": 15,
     "metadata": {},
     "output_type": "execute_result"
    }
   ],
   "source": [
    "from sklearn.metrics import roc_auc_score, average_precision_score\n",
    "\n",
    "p_rf = mdl1.predict_proba(X_val_with_title)[:, 1]\n",
    "\n",
    "average_precision_score(y_val, p_rf), roc_auc_score(y_val, p_rf)"
   ]
  },
  {
   "cell_type": "markdown",
   "metadata": {},
   "source": [
    "                                                    \n",
    "           (0.4398304045590999, 0.6974981833281428)  - n_estimators = 1000 - min_samples_leaf= 1 - n_gram (1,2)\n",
    "           (0.4281493555354776, 0.6715716806809924)  - n_estimators = 1000 - min_samples_leaf= 2 - n_gram (1,2)\n",
    "           (0.41291598480012126, 0.6572978303747534) - n_estimators = 100  - min_samples_leaf= 2 - n_gram (1,2)\n",
    "           (0.4390506690818257, 0.6829648084708814)  - n_estimators = 1000 - min_samples_leaf= 1 - n_gram (1,2)\n",
    "           (0.47479006692854603, 0.7139520398629711) - n_estimators = 1000 - min_samples_leaf= 1 - n_gram (1,3) ~ best"
   ]
  },
  {
   "cell_type": "markdown",
   "metadata": {},
   "source": [
    "### LGBM Classifier "
   ]
  },
  {
   "cell_type": "code",
   "execution_count": 16,
   "metadata": {},
   "outputs": [
    {
     "data": {
      "text/plain": [
       "LGBMClassifier(class_weight='balanced', random_state=0)"
      ]
     },
     "execution_count": 16,
     "metadata": {},
     "output_type": "execute_result"
    }
   ],
   "source": [
    "from lightgbm import LGBMClassifier\n",
    "\n",
    "mdl2 = LGBMClassifier(random_state = 0, class_weight=\"balanced\", n_jobs = -1)\n",
    "mdl2.fit(X_train, y_train)"
   ]
  },
  {
   "cell_type": "code",
   "execution_count": 17,
   "metadata": {},
   "outputs": [
    {
     "data": {
      "text/plain": [
       "(0.251331677093827, 0.5179590989307589)"
      ]
     },
     "execution_count": 17,
     "metadata": {},
     "output_type": "execute_result"
    }
   ],
   "source": [
    "p = mdl2.predict_proba(X_val)[:, 1]\n",
    "average_precision_score(y_val, p), roc_auc_score(y_val, p)"
   ]
  },
  {
   "cell_type": "code",
   "execution_count": 18,
   "metadata": {},
   "outputs": [],
   "source": [
    "# Now we will use the scikit-optimize library (skopt) to tune the lgbm classifier\n",
    "\n",
    "from skopt import forest_minimize"
   ]
  },
  {
   "cell_type": "code",
   "execution_count": 19,
   "metadata": {},
   "outputs": [],
   "source": [
    "title_train = np.squeeze(text[mask1])\n",
    "title_val = np.squeeze(text[mask2])"
   ]
  },
  {
   "cell_type": "code",
   "execution_count": 20,
   "metadata": {},
   "outputs": [],
   "source": [
    "def tune_lgbm(params):\n",
    "    \n",
    "    lr = params[0]\n",
    "    max_depth = params[1]\n",
    "    min_child_samples = params[2]\n",
    "    subsample = params[3]\n",
    "    colsample_bytree = params[4]\n",
    "    n_estimators = params[5]\n",
    "    min_df = params[6]\n",
    "    ngram_range = (1, params[7])\n",
    "    \n",
    "    title_vec = TfidfVectorizer(min_df = min_df, ngram_range =  ngram_range)\n",
    "    title_bow_train = title_vec.fit_transform(title_train)\n",
    "    title_bow_val = title_vec.transform(title_val)\n",
    "    \n",
    "    X_train_with_title = hstack([X_train, title_bow_train])\n",
    "    X_val_with_title = hstack([X_val, title_bow_val])\n",
    "    \n",
    "    mdl = LGBMClassifier(learning_rate = lr,  max_depth=max_depth,\n",
    "                        min_child_samples=min_child_samples, subsample=subsample,\n",
    "                        colsample_bytree=colsample_bytree, bagging_freq = 1, n_estimators= n_estimators,\n",
    "                        random_state =0, class_weight = \"balanced\", n_jobs=-1)\n",
    "    mdl.fit(X_train_with_title, y_train)\n",
    "    \n",
    "    p = mdl.predict_proba(X_val_with_title)[:, 1]\n",
    "    \n",
    "    print(roc_auc_score(y_val, p))\n",
    "    \n",
    "    return -average_precision_score(y_val, p)"
   ]
  },
  {
   "cell_type": "code",
   "execution_count": 21,
   "metadata": {},
   "outputs": [
    {
     "name": "stdout",
     "output_type": "stream",
     "text": [
      "Iteration No: 1 started. Evaluating function at random point.\n",
      "[LightGBM] [Warning] bagging_freq is set=1, subsample_freq=0 will be ignored. Current value: bagging_freq=1\n",
      "[LightGBM] [Warning] Accuracy may be bad since you didn't set num_leaves and 2^max_depth > num_leaves\n",
      "0.61463199418665\n",
      "Iteration No: 1 ended. Evaluation done at random point.\n",
      "Time taken: 0.1855\n",
      "Function value obtained: -0.3300\n",
      "Current minimum: -0.3300\n",
      "Iteration No: 2 started. Evaluating function at random point.\n",
      "[LightGBM] [Warning] "
     ]
    },
    {
     "name": "stderr",
     "output_type": "stream",
     "text": [
      "C:\\Users\\rodrigo\\anaconda3\\lib\\site-packages\\lightgbm\\basic.py:597: UserWarning: Converting data to scipy sparse matrix.\n",
      "  warnings.warn('Converting data to scipy sparse matrix.')\n"
     ]
    },
    {
     "name": "stdout",
     "output_type": "stream",
     "text": [
      "bagging_freq is set=1, subsample_freq=0 will be ignored. Current value: bagging_freq=1\n",
      "[LightGBM] [Warning] Accuracy may be bad since you didn't set num_leaves and 2^max_depth > num_leaves\n"
     ]
    },
    {
     "name": "stderr",
     "output_type": "stream",
     "text": [
      "C:\\Users\\rodrigo\\anaconda3\\lib\\site-packages\\lightgbm\\basic.py:597: UserWarning: Converting data to scipy sparse matrix.\n",
      "  warnings.warn('Converting data to scipy sparse matrix.')\n"
     ]
    },
    {
     "name": "stdout",
     "output_type": "stream",
     "text": [
      "0.6103238866396761\n",
      "Iteration No: 2 ended. Evaluation done at random point.\n",
      "Time taken: 0.2730\n",
      "Function value obtained: -0.4002\n",
      "Current minimum: -0.4002\n",
      "Iteration No: 3 started. Evaluating function at random point.\n",
      "[LightGBM] [Warning] bagging_freq is set=1, subsample_freq=0 will be ignored. Current value: bagging_freq=1\n",
      "[LightGBM] [Warning] Accuracy may be bad since you didn't set num_leaves and 2^max_depth > num_leaves\n"
     ]
    },
    {
     "name": "stderr",
     "output_type": "stream",
     "text": [
      "C:\\Users\\rodrigo\\anaconda3\\lib\\site-packages\\lightgbm\\basic.py:597: UserWarning: Converting data to scipy sparse matrix.\n",
      "  warnings.warn('Converting data to scipy sparse matrix.')\n"
     ]
    },
    {
     "name": "stdout",
     "output_type": "stream",
     "text": [
      "0.5756514066230665\n",
      "Iteration No: 3 ended. Evaluation done at random point.\n",
      "Time taken: 0.3470\n",
      "Function value obtained: -0.2933\n",
      "Current minimum: -0.4002\n",
      "Iteration No: 4 started. Evaluating function at random point.\n",
      "[LightGBM] [Warning] bagging_freq is set=1, subsample_freq=0 will be ignored. Current value: bagging_freq=1\n",
      "[LightGBM] [Warning] Accuracy may be bad since you didn't set num_leaves and 2^max_depth > num_leaves\n"
     ]
    },
    {
     "name": "stderr",
     "output_type": "stream",
     "text": [
      "C:\\Users\\rodrigo\\anaconda3\\lib\\site-packages\\lightgbm\\basic.py:597: UserWarning: Converting data to scipy sparse matrix.\n",
      "  warnings.warn('Converting data to scipy sparse matrix.')\n",
      "C:\\Users\\rodrigo\\anaconda3\\lib\\site-packages\\lightgbm\\basic.py:597: UserWarning: Converting data to scipy sparse matrix.\n",
      "  warnings.warn('Converting data to scipy sparse matrix.')\n"
     ]
    },
    {
     "name": "stdout",
     "output_type": "stream",
     "text": [
      "0.6310339458112737\n",
      "Iteration No: 4 ended. Evaluation done at random point.\n",
      "Time taken: 0.4130\n",
      "Function value obtained: -0.3663\n",
      "Current minimum: -0.4002\n",
      "Iteration No: 5 started. Evaluating function at random point.\n",
      "[LightGBM] [Warning] bagging_freq is set=1, subsample_freq=0 will be ignored. Current value: bagging_freq=1\n",
      "[LightGBM] [Warning] Accuracy may be bad since you didn't set num_leaves and 2^max_depth > num_leaves\n",
      "0.6162410464029897\n",
      "Iteration No: 5 ended. Evaluation done at random point.\n",
      "Time taken: 0.1380\n",
      "Function value obtained: -0.3426\n",
      "Current minimum: -0.4002\n",
      "Iteration No: 6 started. Evaluating function at random point.\n",
      "[LightGBM] [Warning] bagging_freq is set=1, subsample_freq=0 will be ignored. Current value: bagging_freq=1\n"
     ]
    },
    {
     "name": "stderr",
     "output_type": "stream",
     "text": [
      "C:\\Users\\rodrigo\\anaconda3\\lib\\site-packages\\lightgbm\\basic.py:597: UserWarning: Converting data to scipy sparse matrix.\n",
      "  warnings.warn('Converting data to scipy sparse matrix.')\n",
      "C:\\Users\\rodrigo\\anaconda3\\lib\\site-packages\\lightgbm\\basic.py:597: UserWarning: Converting data to scipy sparse matrix.\n",
      "  warnings.warn('Converting data to scipy sparse matrix.')\n"
     ]
    },
    {
     "name": "stdout",
     "output_type": "stream",
     "text": [
      "0.5836447627945603\n",
      "Iteration No: 6 ended. Evaluation done at random point.\n",
      "Time taken: 0.6764\n",
      "Function value obtained: -0.3431\n",
      "Current minimum: -0.4002\n",
      "Iteration No: 7 started. Evaluating function at random point.\n",
      "[LightGBM] [Warning] bagging_freq is set=1, subsample_freq=0 will be ignored. Current value: bagging_freq=1\n",
      "[LightGBM] [Warning] Accuracy may be bad since you didn't set num_leaves and 2^max_depth > num_leaves\n",
      "0.5721737776393647\n",
      "Iteration No: 7 ended. Evaluation done at random point.\n",
      "Time taken: 0.1440\n",
      "Function value obtained: -0.3171\n",
      "Current minimum: -0.4002\n",
      "Iteration No: 8 started. Evaluating function at random point.\n",
      "[LightGBM] [Warning] bagging_freq is set=1, subsample_freq=0 will be ignored. Current value: bagging_freq=1\n",
      "[LightGBM] [Warning] Accuracy may be bad since you didn't set num_leaves and 2^max_depth > num_leaves\n"
     ]
    },
    {
     "name": "stderr",
     "output_type": "stream",
     "text": [
      "C:\\Users\\rodrigo\\anaconda3\\lib\\site-packages\\lightgbm\\basic.py:597: UserWarning: Converting data to scipy sparse matrix.\n",
      "  warnings.warn('Converting data to scipy sparse matrix.')\n"
     ]
    },
    {
     "name": "stdout",
     "output_type": "stream",
     "text": [
      "0.6471244679746704\n",
      "Iteration No: 8 ended. Evaluation done at random point.\n",
      "Time taken: 0.2660\n",
      "Function value obtained: -0.3820\n",
      "Current minimum: -0.4002\n",
      "Iteration No: 9 started. Evaluating function at random point.\n",
      "[LightGBM] [Warning] bagging_freq is set=1, subsample_freq=0 will be ignored. Current value: bagging_freq=1\n",
      "[LightGBM] [Warning] Accuracy may be bad since you didn't set num_leaves and 2^max_depth > num_leaves\n"
     ]
    },
    {
     "name": "stderr",
     "output_type": "stream",
     "text": [
      "C:\\Users\\rodrigo\\anaconda3\\lib\\site-packages\\lightgbm\\basic.py:597: UserWarning: Converting data to scipy sparse matrix.\n",
      "  warnings.warn('Converting data to scipy sparse matrix.')\n"
     ]
    },
    {
     "name": "stdout",
     "output_type": "stream",
     "text": [
      "0.6672116682238141\n",
      "Iteration No: 9 ended. Evaluation done at random point.\n",
      "Time taken: 0.4710\n",
      "Function value obtained: -0.4566\n",
      "Current minimum: -0.4566\n",
      "Iteration No: 10 started. Evaluating function at random point.\n",
      "[LightGBM] [Warning] bagging_freq is set=1, subsample_freq=0 will be ignored. Current value: bagging_freq=1\n",
      "[LightGBM] [Warning] Accuracy may be bad since you didn't set num_leaves and 2^max_depth > num_leaves\n"
     ]
    },
    {
     "name": "stderr",
     "output_type": "stream",
     "text": [
      "C:\\Users\\rodrigo\\anaconda3\\lib\\site-packages\\lightgbm\\basic.py:597: UserWarning: Converting data to scipy sparse matrix.\n",
      "  warnings.warn('Converting data to scipy sparse matrix.')\n",
      "C:\\Users\\rodrigo\\anaconda3\\lib\\site-packages\\lightgbm\\basic.py:597: UserWarning: Converting data to scipy sparse matrix.\n",
      "  warnings.warn('Converting data to scipy sparse matrix.')\n"
     ]
    },
    {
     "name": "stdout",
     "output_type": "stream",
     "text": [
      "0.6217429668846672\n",
      "Iteration No: 10 ended. Evaluation done at random point.\n",
      "Time taken: 0.3430\n",
      "Function value obtained: -0.3522\n",
      "Current minimum: -0.4566\n",
      "Iteration No: 11 started. Evaluating function at random point.\n",
      "[LightGBM] [Warning] bagging_freq is set=1, subsample_freq=0 will be ignored. Current value: bagging_freq=1\n",
      "0.6011626699885809\n",
      "Iteration No: 11 ended. Evaluation done at random point.\n",
      "Time taken: 0.1781\n",
      "Function value obtained: -0.3545\n",
      "Current minimum: -0.4566\n",
      "Iteration No: 12 started. Evaluating function at random point.\n",
      "[LightGBM] [Warning] bagging_freq is set=1, subsample_freq=0 will be ignored. Current value: bagging_freq=1\n",
      "[LightGBM] [Warning] Accuracy may be bad since you didn't set num_leaves and 2^max_depth > num_leaves\n",
      "0.6161891414927851\n",
      "Iteration No: 12 ended. Evaluation done at random point.\n",
      "Time taken: 0.1920\n",
      "Function value obtained: -0.3550\n",
      "Current minimum: -0.4566\n",
      "Iteration No: 13 started. Evaluating function at random point.\n"
     ]
    },
    {
     "name": "stderr",
     "output_type": "stream",
     "text": [
      "C:\\Users\\rodrigo\\anaconda3\\lib\\site-packages\\lightgbm\\basic.py:597: UserWarning: Converting data to scipy sparse matrix.\n",
      "  warnings.warn('Converting data to scipy sparse matrix.')\n"
     ]
    },
    {
     "name": "stdout",
     "output_type": "stream",
     "text": [
      "[LightGBM] [Warning] bagging_freq is set=1, subsample_freq=0 will be ignored. Current value: bagging_freq=1\n",
      "[LightGBM] [Warning] Accuracy may be bad since you didn't set num_leaves and 2^max_depth > num_leaves\n"
     ]
    },
    {
     "name": "stderr",
     "output_type": "stream",
     "text": [
      "C:\\Users\\rodrigo\\anaconda3\\lib\\site-packages\\lightgbm\\basic.py:597: UserWarning: Converting data to scipy sparse matrix.\n",
      "  warnings.warn('Converting data to scipy sparse matrix.')\n",
      "C:\\Users\\rodrigo\\anaconda3\\lib\\site-packages\\lightgbm\\basic.py:597: UserWarning: Converting data to scipy sparse matrix.\n",
      "  warnings.warn('Converting data to scipy sparse matrix.')\n"
     ]
    },
    {
     "name": "stdout",
     "output_type": "stream",
     "text": [
      "0.5941036022007682\n",
      "Iteration No: 13 ended. Evaluation done at random point.\n",
      "Time taken: 0.2741\n",
      "Function value obtained: -0.3064\n",
      "Current minimum: -0.4566\n",
      "Iteration No: 14 started. Evaluating function at random point.\n",
      "[LightGBM] [Warning] bagging_freq is set=1, subsample_freq=0 will be ignored. Current value: bagging_freq=1\n",
      "[LightGBM] [Warning] Accuracy may be bad since you didn't set num_leaves and 2^max_depth > num_leaves\n",
      "0.6198743901173052\n",
      "Iteration No: 14 ended. Evaluation done at random point.\n",
      "Time taken: 0.1020\n",
      "Function value obtained: -0.3367\n",
      "Current minimum: -0.4566\n",
      "Iteration No: 15 started. Evaluating function at random point.\n",
      "[LightGBM] [Warning] bagging_freq is set=1, subsample_freq=0 will be ignored. Current value: bagging_freq=1\n",
      "[LightGBM] [Warning] Accuracy may be bad since you didn't set num_leaves and 2^max_depth > num_leaves\n"
     ]
    },
    {
     "name": "stderr",
     "output_type": "stream",
     "text": [
      "C:\\Users\\rodrigo\\anaconda3\\lib\\site-packages\\lightgbm\\basic.py:597: UserWarning: Converting data to scipy sparse matrix.\n",
      "  warnings.warn('Converting data to scipy sparse matrix.')\n"
     ]
    },
    {
     "name": "stdout",
     "output_type": "stream",
     "text": [
      "0.6202896293989412\n",
      "Iteration No: 15 ended. Evaluation done at random point.\n",
      "Time taken: 0.2190\n",
      "Function value obtained: -0.3249\n",
      "Current minimum: -0.4566\n",
      "Iteration No: 16 started. Evaluating function at random point.\n",
      "[LightGBM] [Warning] bagging_freq is set=1, subsample_freq=0 will be ignored. Current value: bagging_freq=1\n"
     ]
    },
    {
     "name": "stderr",
     "output_type": "stream",
     "text": [
      "C:\\Users\\rodrigo\\anaconda3\\lib\\site-packages\\lightgbm\\basic.py:597: UserWarning: Converting data to scipy sparse matrix.\n",
      "  warnings.warn('Converting data to scipy sparse matrix.')\n"
     ]
    },
    {
     "name": "stdout",
     "output_type": "stream",
     "text": [
      "0.613178656700924\n",
      "Iteration No: 16 ended. Evaluation done at random point.\n",
      "Time taken: 0.5070\n",
      "Function value obtained: -0.3630\n",
      "Current minimum: -0.4566\n",
      "Iteration No: 17 started. Evaluating function at random point.\n",
      "[LightGBM] [Warning] bagging_freq is set=1, subsample_freq=0 will be ignored. Current value: bagging_freq=1\n",
      "[LightGBM] [Warning] Accuracy may be bad since you didn't set num_leaves and 2^max_depth > num_leaves\n"
     ]
    },
    {
     "name": "stderr",
     "output_type": "stream",
     "text": [
      "C:\\Users\\rodrigo\\anaconda3\\lib\\site-packages\\lightgbm\\basic.py:597: UserWarning: Converting data to scipy sparse matrix.\n",
      "  warnings.warn('Converting data to scipy sparse matrix.')\n",
      "C:\\Users\\rodrigo\\anaconda3\\lib\\site-packages\\lightgbm\\basic.py:597: UserWarning: Converting data to scipy sparse matrix.\n",
      "  warnings.warn('Converting data to scipy sparse matrix.')\n"
     ]
    },
    {
     "name": "stdout",
     "output_type": "stream",
     "text": [
      "0.6175905740683069\n",
      "Iteration No: 17 ended. Evaluation done at random point.\n",
      "Time taken: 1.2910\n",
      "Function value obtained: -0.3415\n",
      "Current minimum: -0.4566\n",
      "Iteration No: 18 started. Evaluating function at random point.\n",
      "[LightGBM] [Warning] bagging_freq is set=1, subsample_freq=0 will be ignored. Current value: bagging_freq=1\n",
      "[LightGBM] [Warning] Accuracy may be bad since you didn't set num_leaves and 2^max_depth > num_leaves\n",
      "0.5398889234921623\n",
      "Iteration No: 18 ended. Evaluation done at random point.\n",
      "Time taken: 0.0900\n",
      "Function value obtained: -0.2851\n",
      "Current minimum: -0.4566\n",
      "Iteration No: 19 started. Evaluating function at random point.\n",
      "[LightGBM] [Warning] bagging_freq is set=1, subsample_freq=0 will be ignored. Current value: bagging_freq=1\n",
      "[LightGBM] [Warning] Accuracy may be bad since you didn't set num_leaves and 2^max_depth > num_leaves\n"
     ]
    },
    {
     "name": "stderr",
     "output_type": "stream",
     "text": [
      "C:\\Users\\rodrigo\\anaconda3\\lib\\site-packages\\lightgbm\\basic.py:597: UserWarning: Converting data to scipy sparse matrix.\n",
      "  warnings.warn('Converting data to scipy sparse matrix.')\n",
      "C:\\Users\\rodrigo\\anaconda3\\lib\\site-packages\\lightgbm\\basic.py:597: UserWarning: Converting data to scipy sparse matrix.\n",
      "  warnings.warn('Converting data to scipy sparse matrix.')\n"
     ]
    },
    {
     "name": "stdout",
     "output_type": "stream",
     "text": [
      "0.6220024914356899\n",
      "Iteration No: 19 ended. Evaluation done at random point.\n",
      "Time taken: 0.2100\n",
      "Function value obtained: -0.3352\n",
      "Current minimum: -0.4566\n",
      "Iteration No: 20 started. Evaluating function at random point.\n",
      "[LightGBM] [Warning] bagging_freq is set=1, subsample_freq=0 will be ignored. Current value: bagging_freq=1\n",
      "[LightGBM] [Warning] Accuracy may be bad since you didn't set num_leaves and 2^max_depth > num_leaves\n",
      "0.5532803903249247\n",
      "Iteration No: 20 ended. Evaluation done at random point.\n",
      "Time taken: 0.4582\n",
      "Function value obtained: -0.2779\n",
      "Current minimum: -0.4566\n",
      "Iteration No: 21 started. Searching for the next optimal point.\n",
      "[LightGBM] [Warning] bagging_freq is set=1, subsample_freq=0 will be ignored. Current value: bagging_freq=1\n",
      "[LightGBM] [Warning] Accuracy may be bad since you didn't set num_leaves and 2^max_depth > num_leaves\n"
     ]
    },
    {
     "name": "stderr",
     "output_type": "stream",
     "text": [
      "C:\\Users\\rodrigo\\anaconda3\\lib\\site-packages\\lightgbm\\basic.py:597: UserWarning: Converting data to scipy sparse matrix.\n",
      "  warnings.warn('Converting data to scipy sparse matrix.')\n"
     ]
    },
    {
     "name": "stdout",
     "output_type": "stream",
     "text": [
      "0.6989255683587667\n",
      "Iteration No: 21 ended. Search finished for the next optimal point.\n",
      "Time taken: 0.7250\n",
      "Function value obtained: -0.4504\n",
      "Current minimum: -0.4566\n",
      "Iteration No: 22 started. Searching for the next optimal point.\n",
      "[LightGBM] [Warning] bagging_freq is set=1, subsample_freq=0 will be ignored. Current value: bagging_freq=1\n",
      "[LightGBM] [Warning] Accuracy may be bad since you didn't set num_leaves and 2^max_depth > num_leaves\n"
     ]
    },
    {
     "name": "stderr",
     "output_type": "stream",
     "text": [
      "C:\\Users\\rodrigo\\anaconda3\\lib\\site-packages\\lightgbm\\basic.py:597: UserWarning: Converting data to scipy sparse matrix.\n",
      "  warnings.warn('Converting data to scipy sparse matrix.')\n"
     ]
    },
    {
     "name": "stdout",
     "output_type": "stream",
     "text": [
      "0.6335253815010901\n",
      "Iteration No: 22 ended. Search finished for the next optimal point.\n",
      "Time taken: 1.0340\n",
      "Function value obtained: -0.3842\n",
      "Current minimum: -0.4566\n",
      "Iteration No: 23 started. Searching for the next optimal point.\n",
      "[LightGBM] [Warning] bagging_freq is set=1, subsample_freq=0 will be ignored. Current value: bagging_freq=1\n",
      "[LightGBM] [Warning] Accuracy may be bad since you didn't set num_leaves and 2^max_depth > num_leaves\n",
      "0.6302034672480017\n"
     ]
    },
    {
     "name": "stderr",
     "output_type": "stream",
     "text": [
      "C:\\Users\\rodrigo\\anaconda3\\lib\\site-packages\\lightgbm\\basic.py:597: UserWarning: Converting data to scipy sparse matrix.\n",
      "  warnings.warn('Converting data to scipy sparse matrix.')\n"
     ]
    },
    {
     "name": "stdout",
     "output_type": "stream",
     "text": [
      "Iteration No: 23 ended. Search finished for the next optimal point.\n",
      "Time taken: 0.4210\n",
      "Function value obtained: -0.3790\n",
      "Current minimum: -0.4566\n",
      "Iteration No: 24 started. Searching for the next optimal point.\n",
      "[LightGBM] [Warning] bagging_freq is set=1, subsample_freq=0 will be ignored. Current value: bagging_freq=1\n",
      "[LightGBM] [Warning] Accuracy may be bad since you didn't set num_leaves and 2^max_depth > num_leaves\n"
     ]
    },
    {
     "name": "stderr",
     "output_type": "stream",
     "text": [
      "C:\\Users\\rodrigo\\anaconda3\\lib\\site-packages\\lightgbm\\basic.py:597: UserWarning: Converting data to scipy sparse matrix.\n",
      "  warnings.warn('Converting data to scipy sparse matrix.')\n"
     ]
    },
    {
     "name": "stdout",
     "output_type": "stream",
     "text": [
      "0.696070798297519\n",
      "Iteration No: 24 ended. Search finished for the next optimal point.\n",
      "Time taken: 0.6790\n",
      "Function value obtained: -0.4283\n",
      "Current minimum: -0.4566\n",
      "Iteration No: 25 started. Searching for the next optimal point.\n",
      "[LightGBM] [Warning] bagging_freq is set=1, subsample_freq=0 will be ignored. Current value: bagging_freq=1\n",
      "[LightGBM] [Warning] Accuracy may be bad since you didn't set num_leaves and 2^max_depth > num_leaves\n"
     ]
    },
    {
     "name": "stderr",
     "output_type": "stream",
     "text": [
      "C:\\Users\\rodrigo\\anaconda3\\lib\\site-packages\\lightgbm\\basic.py:597: UserWarning: Converting data to scipy sparse matrix.\n",
      "  warnings.warn('Converting data to scipy sparse matrix.')\n"
     ]
    },
    {
     "name": "stdout",
     "output_type": "stream",
     "text": [
      "0.6893231599709333\n",
      "Iteration No: 25 ended. Search finished for the next optimal point.\n",
      "Time taken: 0.8200\n",
      "Function value obtained: -0.4396\n",
      "Current minimum: -0.4566\n",
      "Iteration No: 26 started. Searching for the next optimal point.\n",
      "[LightGBM] [Warning] bagging_freq is set=1, subsample_freq=0 will be ignored. Current value: bagging_freq=1\n",
      "[LightGBM] [Warning] Accuracy may be bad since you didn't set num_leaves and 2^max_depth > num_leaves\n"
     ]
    },
    {
     "name": "stderr",
     "output_type": "stream",
     "text": [
      "C:\\Users\\rodrigo\\anaconda3\\lib\\site-packages\\lightgbm\\basic.py:597: UserWarning: Converting data to scipy sparse matrix.\n",
      "  warnings.warn('Converting data to scipy sparse matrix.')\n"
     ]
    },
    {
     "name": "stdout",
     "output_type": "stream",
     "text": [
      "0.6827831412851655\n",
      "Iteration No: 26 ended. Search finished for the next optimal point.\n",
      "Time taken: 0.8156\n",
      "Function value obtained: -0.4367\n",
      "Current minimum: -0.4566\n",
      "Iteration No: 27 started. Searching for the next optimal point.\n",
      "[LightGBM] [Warning] bagging_freq is set=1, subsample_freq=0 will be ignored. Current value: bagging_freq=1\n",
      "[LightGBM] [Warning] Accuracy may be bad since you didn't set num_leaves and 2^max_depth > num_leaves\n"
     ]
    },
    {
     "name": "stderr",
     "output_type": "stream",
     "text": [
      "C:\\Users\\rodrigo\\anaconda3\\lib\\site-packages\\lightgbm\\basic.py:597: UserWarning: Converting data to scipy sparse matrix.\n",
      "  warnings.warn('Converting data to scipy sparse matrix.')\n"
     ]
    },
    {
     "name": "stdout",
     "output_type": "stream",
     "text": [
      "0.6487335201910102\n",
      "Iteration No: 27 ended. Search finished for the next optimal point.\n",
      "Time taken: 1.0060\n",
      "Function value obtained: -0.3864\n",
      "Current minimum: -0.4566\n",
      "Iteration No: 28 started. Searching for the next optimal point.\n",
      "[LightGBM] [Warning] bagging_freq is set=1, subsample_freq=0 will be ignored. Current value: bagging_freq=1\n",
      "[LightGBM] [Warning] Accuracy may be bad since you didn't set num_leaves and 2^max_depth > num_leaves\n",
      "0.5501141908024499\n"
     ]
    },
    {
     "name": "stderr",
     "output_type": "stream",
     "text": [
      "C:\\Users\\rodrigo\\anaconda3\\lib\\site-packages\\lightgbm\\basic.py:597: UserWarning: Converting data to scipy sparse matrix.\n",
      "  warnings.warn('Converting data to scipy sparse matrix.')\n"
     ]
    },
    {
     "name": "stdout",
     "output_type": "stream",
     "text": [
      "Iteration No: 28 ended. Search finished for the next optimal point.\n",
      "Time taken: 0.4020\n",
      "Function value obtained: -0.2903\n",
      "Current minimum: -0.4566\n",
      "Iteration No: 29 started. Searching for the next optimal point.\n",
      "[LightGBM] [Warning] bagging_freq is set=1, subsample_freq=0 will be ignored. Current value: bagging_freq=1\n",
      "[LightGBM] [Warning] Accuracy may be bad since you didn't set num_leaves and 2^max_depth > num_leaves\n"
     ]
    },
    {
     "name": "stderr",
     "output_type": "stream",
     "text": [
      "C:\\Users\\rodrigo\\anaconda3\\lib\\site-packages\\lightgbm\\basic.py:597: UserWarning: Converting data to scipy sparse matrix.\n",
      "  warnings.warn('Converting data to scipy sparse matrix.')\n"
     ]
    },
    {
     "name": "stdout",
     "output_type": "stream",
     "text": [
      "0.6574535451053669\n",
      "Iteration No: 29 ended. Search finished for the next optimal point.\n",
      "Time taken: 0.5540\n",
      "Function value obtained: -0.3800\n",
      "Current minimum: -0.4566\n",
      "Iteration No: 30 started. Searching for the next optimal point.\n",
      "[LightGBM] [Warning] bagging_freq is set=1, subsample_freq=0 will be ignored. Current value: bagging_freq=1\n",
      "[LightGBM] [Warning] Accuracy may be bad since you didn't set num_leaves and 2^max_depth > num_leaves\n"
     ]
    },
    {
     "name": "stderr",
     "output_type": "stream",
     "text": [
      "C:\\Users\\rodrigo\\anaconda3\\lib\\site-packages\\lightgbm\\basic.py:597: UserWarning: Converting data to scipy sparse matrix.\n",
      "  warnings.warn('Converting data to scipy sparse matrix.')\n"
     ]
    },
    {
     "name": "stdout",
     "output_type": "stream",
     "text": [
      "0.6624364164849995\n",
      "Iteration No: 30 ended. Search finished for the next optimal point.\n",
      "Time taken: 0.5490\n",
      "Function value obtained: -0.4184\n",
      "Current minimum: -0.4566\n",
      "Iteration No: 31 started. Searching for the next optimal point.\n",
      "[LightGBM] [Warning] bagging_freq is set=1, subsample_freq=0 will be ignored. Current value: bagging_freq=1\n",
      "[LightGBM] [Warning] Accuracy may be bad since you didn't set num_leaves and 2^max_depth > num_leaves\n"
     ]
    },
    {
     "name": "stderr",
     "output_type": "stream",
     "text": [
      "C:\\Users\\rodrigo\\anaconda3\\lib\\site-packages\\lightgbm\\basic.py:597: UserWarning: Converting data to scipy sparse matrix.\n",
      "  warnings.warn('Converting data to scipy sparse matrix.')\n"
     ]
    },
    {
     "name": "stdout",
     "output_type": "stream",
     "text": [
      "0.6446330322848541\n",
      "Iteration No: 31 ended. Search finished for the next optimal point.\n",
      "Time taken: 0.5980\n",
      "Function value obtained: -0.4079\n",
      "Current minimum: -0.4566\n",
      "Iteration No: 32 started. Searching for the next optimal point.\n",
      "[LightGBM] [Warning] bagging_freq is set=1, subsample_freq=0 will be ignored. Current value: bagging_freq=1\n",
      "[LightGBM] [Warning] Accuracy may be bad since you didn't set num_leaves and 2^max_depth > num_leaves\n"
     ]
    },
    {
     "name": "stderr",
     "output_type": "stream",
     "text": [
      "C:\\Users\\rodrigo\\anaconda3\\lib\\site-packages\\lightgbm\\basic.py:597: UserWarning: Converting data to scipy sparse matrix.\n",
      "  warnings.warn('Converting data to scipy sparse matrix.')\n"
     ]
    },
    {
     "name": "stdout",
     "output_type": "stream",
     "text": [
      "0.6851188622443682\n",
      "Iteration No: 32 ended. Search finished for the next optimal point.\n",
      "Time taken: 1.0940\n",
      "Function value obtained: -0.4307\n",
      "Current minimum: -0.4566\n",
      "Iteration No: 33 started. Searching for the next optimal point.\n",
      "[LightGBM] [Warning] bagging_freq is set=1, subsample_freq=0 will be ignored. Current value: bagging_freq=1\n",
      "[LightGBM] [Warning] Accuracy may be bad since you didn't set num_leaves and 2^max_depth > num_leaves\n"
     ]
    },
    {
     "name": "stderr",
     "output_type": "stream",
     "text": [
      "C:\\Users\\rodrigo\\anaconda3\\lib\\site-packages\\lightgbm\\basic.py:597: UserWarning: Converting data to scipy sparse matrix.\n",
      "  warnings.warn('Converting data to scipy sparse matrix.')\n"
     ]
    },
    {
     "name": "stdout",
     "output_type": "stream",
     "text": [
      "0.7038565348281947\n",
      "Iteration No: 33 ended. Search finished for the next optimal point.\n",
      "Time taken: 0.5960\n",
      "Function value obtained: -0.4414\n",
      "Current minimum: -0.4566\n",
      "Iteration No: 34 started. Searching for the next optimal point.\n",
      "[LightGBM] [Warning] bagging_freq is set=1, subsample_freq=0 will be ignored. Current value: bagging_freq=1\n",
      "[LightGBM] [Warning] Accuracy may be bad since you didn't set num_leaves and 2^max_depth > num_leaves\n",
      "0.7007941451261289\n"
     ]
    },
    {
     "name": "stderr",
     "output_type": "stream",
     "text": [
      "C:\\Users\\rodrigo\\anaconda3\\lib\\site-packages\\lightgbm\\basic.py:597: UserWarning: Converting data to scipy sparse matrix.\n",
      "  warnings.warn('Converting data to scipy sparse matrix.')\n"
     ]
    },
    {
     "name": "stdout",
     "output_type": "stream",
     "text": [
      "Iteration No: 34 ended. Search finished for the next optimal point.\n",
      "Time taken: 0.5460\n",
      "Function value obtained: -0.4413\n",
      "Current minimum: -0.4566\n",
      "Iteration No: 35 started. Searching for the next optimal point.\n",
      "[LightGBM] [Warning] bagging_freq is set=1, subsample_freq=0 will be ignored. Current value: bagging_freq=1\n",
      "[LightGBM] [Warning] Accuracy may be bad since you didn't set num_leaves and 2^max_depth > num_leaves\n"
     ]
    },
    {
     "name": "stderr",
     "output_type": "stream",
     "text": [
      "C:\\Users\\rodrigo\\anaconda3\\lib\\site-packages\\lightgbm\\basic.py:597: UserWarning: Converting data to scipy sparse matrix.\n",
      "  warnings.warn('Converting data to scipy sparse matrix.')\n"
     ]
    },
    {
     "name": "stdout",
     "output_type": "stream",
     "text": [
      "0.6876622028443891\n",
      "Iteration No: 35 ended. Search finished for the next optimal point.\n",
      "Time taken: 0.9650\n",
      "Function value obtained: -0.4240\n",
      "Current minimum: -0.4566\n",
      "Iteration No: 36 started. Searching for the next optimal point.\n",
      "[LightGBM] [Warning] bagging_freq is set=1, subsample_freq=0 will be ignored. Current value: bagging_freq=1\n",
      "[LightGBM] [Warning] Accuracy may be bad since you didn't set num_leaves and 2^max_depth > num_leaves\n"
     ]
    },
    {
     "name": "stderr",
     "output_type": "stream",
     "text": [
      "C:\\Users\\rodrigo\\anaconda3\\lib\\site-packages\\lightgbm\\basic.py:597: UserWarning: Converting data to scipy sparse matrix.\n",
      "  warnings.warn('Converting data to scipy sparse matrix.')\n"
     ]
    },
    {
     "name": "stdout",
     "output_type": "stream",
     "text": [
      "0.7001193812934704\n",
      "Iteration No: 36 ended. Search finished for the next optimal point.\n",
      "Time taken: 0.6830\n",
      "Function value obtained: -0.4262\n",
      "Current minimum: -0.4566\n",
      "Iteration No: 37 started. Searching for the next optimal point.\n",
      "[LightGBM] [Warning] bagging_freq is set=1, subsample_freq=0 will be ignored. Current value: bagging_freq=1\n",
      "[LightGBM] [Warning] Accuracy may be bad since you didn't set num_leaves and 2^max_depth > num_leaves\n"
     ]
    },
    {
     "name": "stderr",
     "output_type": "stream",
     "text": [
      "C:\\Users\\rodrigo\\anaconda3\\lib\\site-packages\\lightgbm\\basic.py:597: UserWarning: Converting data to scipy sparse matrix.\n",
      "  warnings.warn('Converting data to scipy sparse matrix.')\n"
     ]
    },
    {
     "name": "stdout",
     "output_type": "stream",
     "text": [
      "0.6229886847295755\n",
      "Iteration No: 37 ended. Search finished for the next optimal point.\n",
      "Time taken: 1.0880\n",
      "Function value obtained: -0.3890\n",
      "Current minimum: -0.4566\n",
      "Iteration No: 38 started. Searching for the next optimal point.\n",
      "[LightGBM] [Warning] bagging_freq is set=1, subsample_freq=0 will be ignored. Current value: bagging_freq=1\n",
      "[LightGBM] [Warning] Accuracy may be bad since you didn't set num_leaves and 2^max_depth > num_leaves\n"
     ]
    },
    {
     "name": "stderr",
     "output_type": "stream",
     "text": [
      "C:\\Users\\rodrigo\\anaconda3\\lib\\site-packages\\lightgbm\\basic.py:597: UserWarning: Converting data to scipy sparse matrix.\n",
      "  warnings.warn('Converting data to scipy sparse matrix.')\n"
     ]
    },
    {
     "name": "stdout",
     "output_type": "stream",
     "text": [
      "0.6744264507422402\n",
      "Iteration No: 38 ended. Search finished for the next optimal point.\n",
      "Time taken: 0.7690\n",
      "Function value obtained: -0.4407\n",
      "Current minimum: -0.4566\n",
      "Iteration No: 39 started. Searching for the next optimal point.\n",
      "[LightGBM] [Warning] bagging_freq is set=1, subsample_freq=0 will be ignored. Current value: bagging_freq=1\n",
      "[LightGBM] [Warning] Accuracy may be bad since you didn't set num_leaves and 2^max_depth > num_leaves\n",
      "0.6722983494238555\n"
     ]
    },
    {
     "name": "stderr",
     "output_type": "stream",
     "text": [
      "C:\\Users\\rodrigo\\anaconda3\\lib\\site-packages\\lightgbm\\basic.py:597: UserWarning: Converting data to scipy sparse matrix.\n",
      "  warnings.warn('Converting data to scipy sparse matrix.')\n"
     ]
    },
    {
     "name": "stdout",
     "output_type": "stream",
     "text": [
      "Iteration No: 39 ended. Search finished for the next optimal point.\n",
      "Time taken: 0.4650\n",
      "Function value obtained: -0.4455\n",
      "Current minimum: -0.4566\n",
      "Iteration No: 40 started. Searching for the next optimal point.\n",
      "[LightGBM] [Warning] bagging_freq is set=1, subsample_freq=0 will be ignored. Current value: bagging_freq=1\n",
      "[LightGBM] [Warning] Accuracy may be bad since you didn't set num_leaves and 2^max_depth > num_leaves\n",
      "0.6534049621094156\n"
     ]
    },
    {
     "name": "stderr",
     "output_type": "stream",
     "text": [
      "C:\\Users\\rodrigo\\anaconda3\\lib\\site-packages\\lightgbm\\basic.py:597: UserWarning: Converting data to scipy sparse matrix.\n",
      "  warnings.warn('Converting data to scipy sparse matrix.')\n"
     ]
    },
    {
     "name": "stdout",
     "output_type": "stream",
     "text": [
      "Iteration No: 40 ended. Search finished for the next optimal point.\n",
      "Time taken: 0.4720\n",
      "Function value obtained: -0.4281\n",
      "Current minimum: -0.4566\n",
      "Iteration No: 41 started. Searching for the next optimal point.\n",
      "[LightGBM] [Warning] bagging_freq is set=1, subsample_freq=0 will be ignored. Current value: bagging_freq=1\n",
      "[LightGBM] [Warning] Accuracy may be bad since you didn't set num_leaves and 2^max_depth > num_leaves\n"
     ]
    },
    {
     "name": "stderr",
     "output_type": "stream",
     "text": [
      "C:\\Users\\rodrigo\\anaconda3\\lib\\site-packages\\lightgbm\\basic.py:597: UserWarning: Converting data to scipy sparse matrix.\n",
      "  warnings.warn('Converting data to scipy sparse matrix.')\n"
     ]
    },
    {
     "name": "stdout",
     "output_type": "stream",
     "text": [
      "0.6983027094363127\n",
      "Iteration No: 41 ended. Search finished for the next optimal point.\n",
      "Time taken: 0.7690\n",
      "Function value obtained: -0.4699\n",
      "Current minimum: -0.4699\n",
      "Iteration No: 42 started. Searching for the next optimal point.\n",
      "[LightGBM] [Warning] bagging_freq is set=1, subsample_freq=0 will be ignored. Current value: bagging_freq=1\n",
      "[LightGBM] [Warning] Accuracy may be bad since you didn't set num_leaves and 2^max_depth > num_leaves\n"
     ]
    },
    {
     "name": "stderr",
     "output_type": "stream",
     "text": [
      "C:\\Users\\rodrigo\\anaconda3\\lib\\site-packages\\lightgbm\\basic.py:597: UserWarning: Converting data to scipy sparse matrix.\n",
      "  warnings.warn('Converting data to scipy sparse matrix.')\n"
     ]
    },
    {
     "name": "stdout",
     "output_type": "stream",
     "text": [
      "0.6800840859545313\n",
      "Iteration No: 42 ended. Search finished for the next optimal point.\n",
      "Time taken: 0.6200\n",
      "Function value obtained: -0.4163\n",
      "Current minimum: -0.4699\n",
      "Iteration No: 43 started. Searching for the next optimal point.\n",
      "[LightGBM] [Warning] bagging_freq is set=1, subsample_freq=0 will be ignored. Current value: bagging_freq=1\n",
      "[LightGBM] [Warning] Accuracy may be bad since you didn't set num_leaves and 2^max_depth > num_leaves\n"
     ]
    },
    {
     "name": "stderr",
     "output_type": "stream",
     "text": [
      "C:\\Users\\rodrigo\\anaconda3\\lib\\site-packages\\lightgbm\\basic.py:597: UserWarning: Converting data to scipy sparse matrix.\n",
      "  warnings.warn('Converting data to scipy sparse matrix.')\n"
     ]
    },
    {
     "name": "stdout",
     "output_type": "stream",
     "text": [
      "0.6133862763417419\n",
      "Iteration No: 43 ended. Search finished for the next optimal point.\n",
      "Time taken: 0.5380\n",
      "Function value obtained: -0.3710\n",
      "Current minimum: -0.4699\n",
      "Iteration No: 44 started. Searching for the next optimal point.\n",
      "[LightGBM] [Warning] bagging_freq is set=1, subsample_freq=0 will be ignored. Current value: bagging_freq=1\n",
      "[LightGBM] [Warning] Accuracy may be bad since you didn't set num_leaves and 2^max_depth > num_leaves\n",
      "0.6277120315581854\n"
     ]
    },
    {
     "name": "stderr",
     "output_type": "stream",
     "text": [
      "C:\\Users\\rodrigo\\anaconda3\\lib\\site-packages\\lightgbm\\basic.py:597: UserWarning: Converting data to scipy sparse matrix.\n",
      "  warnings.warn('Converting data to scipy sparse matrix.')\n"
     ]
    },
    {
     "name": "stdout",
     "output_type": "stream",
     "text": [
      "Iteration No: 44 ended. Search finished for the next optimal point.\n",
      "Time taken: 0.3780\n",
      "Function value obtained: -0.4320\n",
      "Current minimum: -0.4699\n",
      "Iteration No: 45 started. Searching for the next optimal point.\n",
      "[LightGBM] [Warning] bagging_freq is set=1, subsample_freq=0 will be ignored. Current value: bagging_freq=1\n",
      "[LightGBM] [Warning] Accuracy may be bad since you didn't set num_leaves and 2^max_depth > num_leaves\n"
     ]
    },
    {
     "name": "stderr",
     "output_type": "stream",
     "text": [
      "C:\\Users\\rodrigo\\anaconda3\\lib\\site-packages\\lightgbm\\basic.py:597: UserWarning: Converting data to scipy sparse matrix.\n",
      "  warnings.warn('Converting data to scipy sparse matrix.')\n"
     ]
    },
    {
     "name": "stdout",
     "output_type": "stream",
     "text": [
      "0.6765545520606249\n",
      "Iteration No: 45 ended. Search finished for the next optimal point.\n",
      "Time taken: 0.7030\n",
      "Function value obtained: -0.4519\n",
      "Current minimum: -0.4699\n",
      "Iteration No: 46 started. Searching for the next optimal point.\n",
      "[LightGBM] [Warning] bagging_freq is set=1, subsample_freq=0 will be ignored. Current value: bagging_freq=1\n",
      "[LightGBM] [Warning] Accuracy may be bad since you didn't set num_leaves and 2^max_depth > num_leaves\n"
     ]
    },
    {
     "name": "stderr",
     "output_type": "stream",
     "text": [
      "C:\\Users\\rodrigo\\anaconda3\\lib\\site-packages\\lightgbm\\basic.py:597: UserWarning: Converting data to scipy sparse matrix.\n",
      "  warnings.warn('Converting data to scipy sparse matrix.')\n"
     ]
    },
    {
     "name": "stdout",
     "output_type": "stream",
     "text": [
      "0.6365358662929513\n",
      "Iteration No: 46 ended. Search finished for the next optimal point.\n",
      "Time taken: 0.5200\n",
      "Function value obtained: -0.4083\n",
      "Current minimum: -0.4699\n",
      "Iteration No: 47 started. Searching for the next optimal point.\n",
      "[LightGBM] [Warning] bagging_freq is set=1, subsample_freq=0 will be ignored. Current value: bagging_freq=1\n"
     ]
    },
    {
     "name": "stderr",
     "output_type": "stream",
     "text": [
      "C:\\Users\\rodrigo\\anaconda3\\lib\\site-packages\\lightgbm\\basic.py:597: UserWarning: Converting data to scipy sparse matrix.\n",
      "  warnings.warn('Converting data to scipy sparse matrix.')\n"
     ]
    },
    {
     "name": "stdout",
     "output_type": "stream",
     "text": [
      "0.66186546247275\n",
      "Iteration No: 47 ended. Search finished for the next optimal point.\n",
      "Time taken: 0.4680\n",
      "Function value obtained: -0.4148\n",
      "Current minimum: -0.4699\n",
      "Iteration No: 48 started. Searching for the next optimal point.\n",
      "[LightGBM] [Warning] bagging_freq is set=1, subsample_freq=0 will be ignored. Current value: bagging_freq=1\n",
      "[LightGBM] [Warning] Accuracy may be bad since you didn't set num_leaves and 2^max_depth > num_leaves\n"
     ]
    },
    {
     "name": "stderr",
     "output_type": "stream",
     "text": [
      "C:\\Users\\rodrigo\\anaconda3\\lib\\site-packages\\lightgbm\\basic.py:597: UserWarning: Converting data to scipy sparse matrix.\n",
      "  warnings.warn('Converting data to scipy sparse matrix.')\n"
     ]
    },
    {
     "name": "stdout",
     "output_type": "stream",
     "text": [
      "0.6884926814076612\n",
      "Iteration No: 48 ended. Search finished for the next optimal point.\n",
      "Time taken: 0.6470\n",
      "Function value obtained: -0.4102\n",
      "Current minimum: -0.4699\n",
      "Iteration No: 49 started. Searching for the next optimal point.\n",
      "[LightGBM] [Warning] bagging_freq is set=1, subsample_freq=0 will be ignored. Current value: bagging_freq=1\n",
      "[LightGBM] [Warning] Accuracy may be bad since you didn't set num_leaves and 2^max_depth > num_leaves\n"
     ]
    },
    {
     "name": "stderr",
     "output_type": "stream",
     "text": [
      "C:\\Users\\rodrigo\\anaconda3\\lib\\site-packages\\lightgbm\\basic.py:597: UserWarning: Converting data to scipy sparse matrix.\n",
      "  warnings.warn('Converting data to scipy sparse matrix.')\n"
     ]
    },
    {
     "name": "stdout",
     "output_type": "stream",
     "text": [
      "0.6695473891830167\n",
      "Iteration No: 49 ended. Search finished for the next optimal point.\n",
      "Time taken: 0.7400\n",
      "Function value obtained: -0.4250\n",
      "Current minimum: -0.4699\n",
      "Iteration No: 50 started. Searching for the next optimal point.\n",
      "[LightGBM] [Warning] bagging_freq is set=1, subsample_freq=0 will be ignored. Current value: bagging_freq=1\n",
      "0.6986141388975398\n"
     ]
    },
    {
     "name": "stderr",
     "output_type": "stream",
     "text": [
      "C:\\Users\\rodrigo\\anaconda3\\lib\\site-packages\\lightgbm\\basic.py:597: UserWarning: Converting data to scipy sparse matrix.\n",
      "  warnings.warn('Converting data to scipy sparse matrix.')\n"
     ]
    },
    {
     "name": "stdout",
     "output_type": "stream",
     "text": [
      "Iteration No: 50 ended. Search finished for the next optimal point.\n",
      "Time taken: 0.3970\n",
      "Function value obtained: -0.4664\n",
      "Current minimum: -0.4699\n"
     ]
    }
   ],
   "source": [
    "space = [(1e-3, 1e-1, 'log-uniform'), #lr\n",
    "        (1, 20), # max_depth\n",
    "        (1, 20), #min_child_samples\n",
    "        (0.05, 1.), #subsample\n",
    "        (0.05, 1.), #colsample_bytree\n",
    "        (100, 1000), # n_estimators\n",
    "        (1, 5), # min_df\n",
    "        (1, 5)] #n_gram range\n",
    "    \n",
    "res = forest_minimize(tune_lgbm, space, random_state = 160475, n_random_starts = 20, n_calls = 50, verbose = 1)"
   ]
  },
  {
   "cell_type": "code",
   "execution_count": 22,
   "metadata": {},
   "outputs": [
    {
     "name": "stdout",
     "output_type": "stream",
     "text": [
      "Best parameters: [0.015286972843636785, 14, 1, 0.5605787546434184, 0.9289814346488457, 390, 4, 1]\n"
     ]
    }
   ],
   "source": [
    "print(f'Best parameters: {res.x}')"
   ]
  },
  {
   "cell_type": "markdown",
   "metadata": {},
   "source": [
    "### Best Model"
   ]
  },
  {
   "cell_type": "code",
   "execution_count": 24,
   "metadata": {},
   "outputs": [
    {
     "data": {
      "text/plain": [
       "((573, 209),)"
      ]
     },
     "execution_count": 24,
     "metadata": {},
     "output_type": "execute_result"
    }
   ],
   "source": [
    "x_train_bow, x_val_bow, title_vec_lgbm = getting_text_features(text, mask1, mask2, min_df=4, ngram_range=(1, 1))\n",
    "X_train_with_title, X_val_with_title = final_data(X_train, X_val, x_train_bow, x_val_bow)\n",
    "X_train_with_title.shape, "
   ]
  },
  {
   "cell_type": "code",
   "execution_count": 25,
   "metadata": {
    "scrolled": true
   },
   "outputs": [
    {
     "name": "stdout",
     "output_type": "stream",
     "text": [
      "[LightGBM] [Warning] Accuracy may be bad since you didn't set num_leaves and 2^max_depth > num_leaves\n"
     ]
    },
    {
     "data": {
      "text/plain": [
       "LGBMClassifier(class_weight='balanced', colsample_bytree=0.9289814346488457,\n",
       "               learning_rate=0.015286972843636785, max_depth=14,\n",
       "               min_child_samples=1, n_estimators=539, random_state=0,\n",
       "               subsample=0.5605787546434184)"
      ]
     },
     "execution_count": 25,
     "metadata": {},
     "output_type": "execute_result"
    }
   ],
   "source": [
    "mdl2 = LGBMClassifier(random_state = 0, class_weight=\"balanced\", n_jobs = -1, learning_rate=0.015286972843636785, max_depth = 14,\n",
    "                     min_child_samples = 1, subsample = 0.5605787546434184, colsample_bytree=0.9289814346488457,\n",
    "                     n_estimators = 539)\n",
    "mdl2.fit(X_train_with_title, y_train)"
   ]
  },
  {
   "cell_type": "code",
   "execution_count": 26,
   "metadata": {},
   "outputs": [
    {
     "name": "stderr",
     "output_type": "stream",
     "text": [
      "C:\\Users\\rodrigo\\anaconda3\\lib\\site-packages\\lightgbm\\basic.py:597: UserWarning: Converting data to scipy sparse matrix.\n",
      "  warnings.warn('Converting data to scipy sparse matrix.')\n"
     ]
    },
    {
     "data": {
      "text/plain": [
       "(0.46428526009645316, 0.7138741824976643)"
      ]
     },
     "execution_count": 26,
     "metadata": {},
     "output_type": "execute_result"
    }
   ],
   "source": [
    "p_lgbm = mdl2.predict_proba(X_val_with_title)[:, 1]\n",
    "average_precision_score(y_val, p_lgbm), roc_auc_score(y_val, p_lgbm)"
   ]
  },
  {
   "cell_type": "markdown",
   "metadata": {},
   "source": [
    "## Ensemble"
   ]
  },
  {
   "cell_type": "markdown",
   "metadata": {},
   "source": [
    "LGBM Classifier -  (0.469143426580733, 0.715275615073186)\n",
    "\n",
    "\n",
    "Random Forest - (0.47479006692854603, 0.7139520398629711)"
   ]
  },
  {
   "cell_type": "code",
   "execution_count": 27,
   "metadata": {},
   "outputs": [
    {
     "data": {
      "text/html": [
       "<div>\n",
       "<style scoped>\n",
       "    .dataframe tbody tr th:only-of-type {\n",
       "        vertical-align: middle;\n",
       "    }\n",
       "\n",
       "    .dataframe tbody tr th {\n",
       "        vertical-align: top;\n",
       "    }\n",
       "\n",
       "    .dataframe thead th {\n",
       "        text-align: right;\n",
       "    }\n",
       "</style>\n",
       "<table border=\"1\" class=\"dataframe\">\n",
       "  <thead>\n",
       "    <tr style=\"text-align: right;\">\n",
       "      <th></th>\n",
       "      <th>LR</th>\n",
       "      <th>LGBM</th>\n",
       "    </tr>\n",
       "  </thead>\n",
       "  <tbody>\n",
       "    <tr>\n",
       "      <th>LR</th>\n",
       "      <td>1.000000</td>\n",
       "      <td>0.688484</td>\n",
       "    </tr>\n",
       "    <tr>\n",
       "      <th>LGBM</th>\n",
       "      <td>0.688484</td>\n",
       "      <td>1.000000</td>\n",
       "    </tr>\n",
       "  </tbody>\n",
       "</table>\n",
       "</div>"
      ],
      "text/plain": [
       "            LR      LGBM\n",
       "LR    1.000000  0.688484\n",
       "LGBM  0.688484  1.000000"
      ]
     },
     "execution_count": 27,
     "metadata": {},
     "output_type": "execute_result"
    }
   ],
   "source": [
    "pd.DataFrame({\"LR\" : p_rf, \"LGBM\": p_lgbm}).corr()"
   ]
  },
  {
   "cell_type": "markdown",
   "metadata": {},
   "source": [
    "*the low correlation value indicates that getting this two models together will improve our model*"
   ]
  },
  {
   "cell_type": "code",
   "execution_count": 28,
   "metadata": {},
   "outputs": [
    {
     "data": {
      "text/plain": [
       "(0.4776522568572185, 0.7224903975916122)"
      ]
     },
     "execution_count": 28,
     "metadata": {},
     "output_type": "execute_result"
    }
   ],
   "source": [
    "p = 0.5*p_rf + 0.5*p_lgbm\n",
    "average_precision_score(y_val, p), roc_auc_score(y_val, p)"
   ]
  },
  {
   "cell_type": "markdown",
   "metadata": {},
   "source": [
    "## Save our models"
   ]
  },
  {
   "cell_type": "code",
   "execution_count": 29,
   "metadata": {},
   "outputs": [
    {
     "data": {
      "text/plain": [
       "['mdl_random_forest.pkl.z']"
      ]
     },
     "execution_count": 29,
     "metadata": {},
     "output_type": "execute_result"
    }
   ],
   "source": [
    "import joblib as jb\n",
    "\n",
    "jb.dump(mdl2, \"mdl_lgbm.pkl.z\")\n",
    "jb.dump(mdl1, \"mdl_random_forest.pkl.z\")"
   ]
  },
  {
   "cell_type": "code",
   "execution_count": 30,
   "metadata": {},
   "outputs": [
    {
     "data": {
      "text/plain": [
       "['title_vectorizer_lgbm.pkl.z']"
      ]
     },
     "execution_count": 30,
     "metadata": {},
     "output_type": "execute_result"
    }
   ],
   "source": [
    "jb.dump(title_vec_rf, \"title_vectorizer_rf.pkl.z\")\n",
    "jb.dump(title_vec_lgbm, \"title_vectorizer_lgbm.pkl.z\")"
   ]
  },
  {
   "cell_type": "code",
   "execution_count": null,
   "metadata": {},
   "outputs": [],
   "source": []
  }
 ],
 "metadata": {
  "kernelspec": {
   "display_name": "Python 3",
   "language": "python",
   "name": "python3"
  },
  "language_info": {
   "codemirror_mode": {
    "name": "ipython",
    "version": 3
   },
   "file_extension": ".py",
   "mimetype": "text/x-python",
   "name": "python",
   "nbconvert_exporter": "python",
   "pygments_lexer": "ipython3",
   "version": "3.8.3"
  }
 },
 "nbformat": 4,
 "nbformat_minor": 4
}
